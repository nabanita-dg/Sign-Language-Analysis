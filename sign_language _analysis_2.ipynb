{
 "cells": [
  {
   "cell_type": "code",
   "execution_count": 3,
   "metadata": {},
   "outputs": [
    {
     "name": "stderr",
     "output_type": "stream",
     "text": [
      "Using TensorFlow backend.\n"
     ]
    }
   ],
   "source": [
    "#import libraries\n",
    "from keras.preprocessing.image import ImageDataGenerator\n",
    "from keras.models import Sequential\n",
    "from keras.layers import Conv2D,MaxPooling2D\n",
    "from keras.layers import Activation,Dropout,Flatten,Dense\n",
    "from keras import backend as k\n",
    "from keras.preprocessing import image\n",
    "import matplotlib.pyplot as plt\n",
    "import numpy as np\n",
    "import pandas as pd"
   ]
  },
  {
   "cell_type": "code",
   "execution_count": 4,
   "metadata": {},
   "outputs": [],
   "source": [
    "test_data=pd.read_csv('sign_mnist_test.csv')\n",
    "train_data=pd.read_csv('sign_mnist_train.csv')"
   ]
  },
  {
   "cell_type": "code",
   "execution_count": 5,
   "metadata": {},
   "outputs": [],
   "source": [
    "x_train=train_data.iloc[:,1:]\n",
    "y_train=train_data.iloc[:,0:1]\n",
    "\n",
    "x_test=test_data.iloc[:,1:]\n",
    "y_test=test_data.iloc[:,0:1]"
   ]
  },
  {
   "cell_type": "code",
   "execution_count": 6,
   "metadata": {},
   "outputs": [
    {
     "name": "stdout",
     "output_type": "stream",
     "text": [
      "(27455, 784)\n",
      "(7172, 784)\n",
      "(27455, 1)\n",
      "(7172, 1)\n"
     ]
    }
   ],
   "source": [
    "print(x_train.shape)\n",
    "print(x_test.shape)\n",
    "print(y_train.shape)\n",
    "print(y_test.shape)"
   ]
  },
  {
   "cell_type": "code",
   "execution_count": 7,
   "metadata": {},
   "outputs": [],
   "source": [
    "#Reshape the data to fit the model\n",
    "x_train=x_train.values.reshape(27455,28,28,1)\n",
    "x_test=x_test.values.reshape(7172,28,28,1)"
   ]
  },
  {
   "cell_type": "code",
   "execution_count": 8,
   "metadata": {},
   "outputs": [
    {
     "name": "stdout",
     "output_type": "stream",
     "text": [
      "[0. 0. 0. 1. 0. 0. 0. 0. 0. 0. 0. 0. 0. 0. 0. 0. 0. 0. 0. 0. 0. 0. 0. 0.\n",
      " 0.]\n"
     ]
    }
   ],
   "source": [
    "from keras.utils import to_categorical\n",
    "\n",
    "\n",
    "#One -hot Encoding: covert labels into a set of 10 numbers to give input into the neural network\n",
    "y_train_one_hot=to_categorical(y_train)\n",
    "y_test_one_hot=to_categorical(y_test)\n",
    "\n",
    "#instead of label 5 we are gonna see a value of 1 at the index 5\n",
    "#print the new label\n",
    "print(y_train_one_hot[0])"
   ]
  },
  {
   "cell_type": "code",
   "execution_count": 22,
   "metadata": {},
   "outputs": [
    {
     "name": "stdout",
     "output_type": "stream",
     "text": [
      "_________________________________________________________________\n",
      "Layer (type)                 Output Shape              Param #   \n",
      "=================================================================\n",
      "conv2d_7 (Conv2D)            (None, 26, 26, 32)        320       \n",
      "_________________________________________________________________\n",
      "activation_6 (Activation)    (None, 26, 26, 32)        0         \n",
      "_________________________________________________________________\n",
      "max_pooling2d_4 (MaxPooling2 (None, 13, 13, 32)        0         \n",
      "=================================================================\n",
      "Total params: 320\n",
      "Trainable params: 320\n",
      "Non-trainable params: 0\n",
      "_________________________________________________________________\n"
     ]
    }
   ],
   "source": [
    "#Built the CNN model\n",
    "\n",
    "#Create Architecture\n",
    "model=Sequential()\n",
    "model.add(Conv2D(32,(3,3),input_shape=(28,28,1)))\n",
    "model.add(Activation('relu'))\n",
    "model.add(MaxPooling2D(pool_size=(2,2)))\n",
    "\n",
    "model.summary()"
   ]
  },
  {
   "cell_type": "code",
   "execution_count": 23,
   "metadata": {},
   "outputs": [
    {
     "name": "stdout",
     "output_type": "stream",
     "text": [
      "_________________________________________________________________\n",
      "Layer (type)                 Output Shape              Param #   \n",
      "=================================================================\n",
      "conv2d_7 (Conv2D)            (None, 26, 26, 32)        320       \n",
      "_________________________________________________________________\n",
      "activation_6 (Activation)    (None, 26, 26, 32)        0         \n",
      "_________________________________________________________________\n",
      "max_pooling2d_4 (MaxPooling2 (None, 13, 13, 32)        0         \n",
      "_________________________________________________________________\n",
      "conv2d_8 (Conv2D)            (None, 11, 11, 32)        9248      \n",
      "_________________________________________________________________\n",
      "activation_7 (Activation)    (None, 11, 11, 32)        0         \n",
      "_________________________________________________________________\n",
      "max_pooling2d_5 (MaxPooling2 (None, 5, 5, 32)          0         \n",
      "_________________________________________________________________\n",
      "conv2d_9 (Conv2D)            (None, 3, 3, 64)          18496     \n",
      "_________________________________________________________________\n",
      "activation_8 (Activation)    (None, 3, 3, 64)          0         \n",
      "_________________________________________________________________\n",
      "max_pooling2d_6 (MaxPooling2 (None, 1, 1, 64)          0         \n",
      "_________________________________________________________________\n",
      "flatten_2 (Flatten)          (None, 64)                0         \n",
      "_________________________________________________________________\n",
      "dense_3 (Dense)              (None, 64)                4160      \n",
      "_________________________________________________________________\n",
      "activation_9 (Activation)    (None, 64)                0         \n",
      "_________________________________________________________________\n",
      "dropout_2 (Dropout)          (None, 64)                0         \n",
      "_________________________________________________________________\n",
      "dense_4 (Dense)              (None, 25)                1625      \n",
      "_________________________________________________________________\n",
      "activation_10 (Activation)   (None, 25)                0         \n",
      "=================================================================\n",
      "Total params: 33,849\n",
      "Trainable params: 33,849\n",
      "Non-trainable params: 0\n",
      "_________________________________________________________________\n"
     ]
    }
   ],
   "source": [
    "#create the CNN\n",
    "\n",
    "model.add(Conv2D(32,(3,3)))\n",
    "model.add(Activation('relu'))\n",
    "model.add(MaxPooling2D(pool_size=(2,2)))\n",
    "\n",
    "model.add(Conv2D(64,(3,3)))\n",
    "model.add(Activation('relu'))\n",
    "model.add(MaxPooling2D(pool_size=(2,2)))\n",
    "\n",
    "model.add(Flatten())\n",
    "model.add(Dense(64))\n",
    "model.add(Activation('relu'))\n",
    "model.add(Dropout(0.5))\n",
    "model.add(Dense(25))\n",
    "model.add(Activation('sigmoid'))\n",
    "\n",
    "model.summary()"
   ]
  },
  {
   "cell_type": "code",
   "execution_count": 24,
   "metadata": {},
   "outputs": [],
   "source": [
    "#compile the model \n",
    "\n",
    "model.compile(loss='binary_crossentropy',optimizer='rmsprop',metrics=['accuracy'])"
   ]
  },
  {
   "cell_type": "code",
   "execution_count": 25,
   "metadata": {},
   "outputs": [
    {
     "name": "stdout",
     "output_type": "stream",
     "text": [
      "Train on 27455 samples, validate on 7172 samples\n",
      "Epoch 1/10\n",
      "27455/27455 [==============================] - 28s 1ms/step - loss: 0.1602 - acc: 0.9546 - val_loss: 0.0631 - val_acc: 0.9730\n",
      "Epoch 2/10\n",
      "27455/27455 [==============================] - 26s 941us/step - loss: 0.0405 - acc: 0.9840 - val_loss: 0.0519 - val_acc: 0.9823\n",
      "Epoch 3/10\n",
      "27455/27455 [==============================] - 26s 957us/step - loss: 0.0180 - acc: 0.9932 - val_loss: 0.0362 - val_acc: 0.9891\n",
      "Epoch 4/10\n",
      "27455/27455 [==============================] - 26s 951us/step - loss: 0.0117 - acc: 0.9958 - val_loss: 0.0431 - val_acc: 0.9901\n",
      "Epoch 5/10\n",
      "27455/27455 [==============================] - 26s 953us/step - loss: 0.0091 - acc: 0.9968 - val_loss: 0.0448 - val_acc: 0.9909\n",
      "Epoch 6/10\n",
      "27455/27455 [==============================] - 26s 958us/step - loss: 0.0078 - acc: 0.9974 - val_loss: 0.0459 - val_acc: 0.9911\n",
      "Epoch 7/10\n",
      "27455/27455 [==============================] - 26s 953us/step - loss: 0.0071 - acc: 0.9977 - val_loss: 0.0503 - val_acc: 0.9913\n",
      "Epoch 8/10\n",
      "27455/27455 [==============================] - 26s 962us/step - loss: 0.0067 - acc: 0.9979 - val_loss: 0.0390 - val_acc: 0.9922\n",
      "Epoch 9/10\n",
      "27455/27455 [==============================] - 27s 968us/step - loss: 0.0065 - acc: 0.9979 - val_loss: 0.0574 - val_acc: 0.9914\n",
      "Epoch 10/10\n",
      "27455/27455 [==============================] - 27s 966us/step - loss: 0.0062 - acc: 0.9981 - val_loss: 0.0566 - val_acc: 0.9913\n"
     ]
    }
   ],
   "source": [
    "#Train the model\n",
    "\n",
    "hist=model.fit(x_train,y_train_one_hot, validation_data=(x_test,y_test_one_hot),batch_size=32,epochs=10)"
   ]
  },
  {
   "cell_type": "code",
   "execution_count": 26,
   "metadata": {},
   "outputs": [
    {
     "name": "stdout",
     "output_type": "stream",
     "text": [
      "{'val_loss': [0.06307836934275887, 0.05189716292579481, 0.03622156647758582, 0.043100452733086395, 0.044770626624452955, 0.04590079643804766, 0.050307228103720535, 0.03904348131279215, 0.05735790851275082, 0.05661497065850429], 'val_acc': [0.9730228805967502, 0.9822699536974046, 0.9891020718461232, 0.9900669357461499, 0.9909369855105246, 0.9911489199475078, 0.9912827752917024, 0.992158401497768, 0.9914166283753753, 0.9912827739619836], 'loss': [0.1602480117335408, 0.04048656981131067, 0.018003403170309396, 0.011662676996846404, 0.0091428869352168, 0.007827492678927048, 0.007098996881605893, 0.0067470841543495665, 0.006532714624115863, 0.006228060439099091], 'acc': [0.9545889660431114, 0.9839956432955445, 0.993172834048048, 0.9957763650013088, 0.9968326356019767, 0.9973760677825513, 0.9976834801024501, 0.9978655947967645, 0.9979253285071429, 0.9980506246716484]}\n"
     ]
    },
    {
     "data": {
      "text/plain": [
       "<matplotlib.legend.Legend at 0x16885eba1d0>"
      ]
     },
     "execution_count": 26,
     "metadata": {},
     "output_type": "execute_result"
    },
    {
     "data": {
      "image/png": "[encoded data removed]",
      "text/plain": [
       "<Figure size 432x288 with 1 Axes>"
      ]
     },
     "metadata": {
      "needs_background": "light"
     },
     "output_type": "display_data"
    }
   ],
   "source": [
    "#visualize the model's accuracy\n",
    "\n",
    "print(hist.history)\n",
    "\n",
    "plt.plot(hist.history['acc']) \n",
    "plt.plot(hist.history['val_acc'])\n",
    "plt.title('Model Accuracy')\n",
    "plt.xlabel('Epoch')\n",
    "plt.ylabel('Accuracy')\n",
    "plt.legend(['Train','Test'],loc='upper left')"
   ]
  },
  {
   "cell_type": "code",
   "execution_count": 31,
   "metadata": {},
   "outputs": [
    {
     "name": "stdout",
     "output_type": "stream",
     "text": [
      "[ 6  5 10  0]\n",
      "   label\n",
      "0      6\n",
      "1      5\n",
      "2     10\n",
      "3      0\n"
     ]
    }
   ],
   "source": [
    "#print our predictions as number labels\n",
    "predictions=model.predict(x_test[:4])\n",
    "prediction_label=np.argmax(predictions,axis=1)\n",
    "print(prediction_label)\n",
    "\n",
    "#print actual labels\n",
    "print(y_test[:4])"
   ]
  },
  {
   "cell_type": "code",
   "execution_count": 36,
   "metadata": {},
   "outputs": [
    {
     "data": {
      "image/png": "[encoded data removed]",
      "text/plain": [
       "<Figure size 432x288 with 1 Axes>"
      ]
     },
     "metadata": {
      "needs_background": "light"
     },
     "output_type": "display_data"
    },
    {
     "data": {
      "image/png": "[encoded data removed]",
      "text/plain": [
       "<Figure size 432x288 with 1 Axes>"
      ]
     },
     "metadata": {
      "needs_background": "light"
     },
     "output_type": "display_data"
    },
    {
     "data": {
      "image/png": "[encoded data removed]",
      "text/plain": [
       "<Figure size 432x288 with 1 Axes>"
      ]
     },
     "metadata": {
      "needs_background": "light"
     },
     "output_type": "display_data"
    },
    {
     "data": {
      "image/png": "[encoded data removed]",
      "text/plain": [
       "<Figure size 432x288 with 1 Axes>"
      ]
     },
     "metadata": {
      "needs_background": "light"
     },
     "output_type": "display_data"
    }
   ],
   "source": [
    "#show first four images as pictures\n",
    "for i in range(4):\n",
    "    test_image=x_test[i]\n",
    "    test_image=np.array(test_image,dtype='float')\n",
    "    pixels=test_image.reshape(28,28)\n",
    "    plt.title(str(chr(97+prediction_label[i])))\n",
    "    plt.imshow(pixels,cmap='gray')\n",
    "    plt.show()"
   ]
  },
  {
   "cell_type": "code",
   "execution_count": 74,
   "metadata": {},
   "outputs": [
    {
     "data": {
      "image/png": "[encoded data removed]",
      "text/plain": [
       "<Figure size 432x288 with 1 Axes>"
      ]
     },
     "metadata": {
      "needs_background": "light"
     },
     "output_type": "display_data"
    }
   ],
   "source": [
    "from keras.preprocessing import image\n",
    "\n",
    "#predict one image\n",
    "img_pred=image.load_img('my_test/a2.jpg',color_mode = \"grayscale\",target_size=(28,28,1))\n",
    "img_pred=image.img_to_array(img_pred)\n",
    "img_pred=np.expand_dims(img_pred,axis=0)\n",
    "result=model.predict(img_pred)\n",
    "\n",
    "#show result as alphabet with image\n",
    "result=np.argmax(result,axis=1)\n",
    "result=str(chr(97+result))\n",
    "\n",
    "\n",
    "img_pred=np.array(img_pred,dtype='float')\n",
    "pixels=img_pred.reshape(28,28)\n",
    "plt.title(result)\n",
    "plt.imshow(pixels,cmap='gray')\n",
    "plt.show()"
   ]
  },
  {
   "cell_type": "code",
   "execution_count": null,
   "metadata": {},
   "outputs": [],
   "source": []
  }
 ],
 "metadata": {
  "kernelspec": {
   "display_name": "Python 3.6 (tensorflow)",
   "language": "python",
   "name": "deep_learning"
  },
  "language_info": {
   "codemirror_mode": {
    "name": "ipython",
    "version": 3
   },
   "file_extension": ".py",
   "mimetype": "text/x-python",
   "name": "python",
   "nbconvert_exporter": "python",
   "pygments_lexer": "ipython3",
   "version": "3.6.9"
  }
 },
 "nbformat": 4,
 "nbformat_minor": 2
}
